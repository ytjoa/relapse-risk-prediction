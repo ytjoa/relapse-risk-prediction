{
 "cells": [
  {
   "cell_type": "markdown",
   "id": "678d6761",
   "metadata": {},
   "source": [
    "# PCA and Clustering"
   ]
  },
  {
   "cell_type": "code",
   "execution_count": 1,
   "id": "51385782",
   "metadata": {},
   "outputs": [
    {
     "ename": "ModuleNotFoundError",
     "evalue": "No module named 'pyreadr'",
     "output_type": "error",
     "traceback": [
      "\u001b[0;31m---------------------------------------------------------------------------\u001b[0m",
      "\u001b[0;31mModuleNotFoundError\u001b[0m                       Traceback (most recent call last)",
      "Input \u001b[0;32mIn [1]\u001b[0m, in \u001b[0;36m<cell line: 6>\u001b[0;34m()\u001b[0m\n\u001b[1;32m      4\u001b[0m \u001b[38;5;28;01mimport\u001b[39;00m \u001b[38;5;21;01mmatplotlib\u001b[39;00m\u001b[38;5;21;01m.\u001b[39;00m\u001b[38;5;21;01mpyplot\u001b[39;00m \u001b[38;5;28;01mas\u001b[39;00m \u001b[38;5;21;01mplt\u001b[39;00m\n\u001b[1;32m      5\u001b[0m \u001b[38;5;28;01mimport\u001b[39;00m \u001b[38;5;21;01mseaborn\u001b[39;00m \u001b[38;5;28;01mas\u001b[39;00m \u001b[38;5;21;01msns\u001b[39;00m\n\u001b[0;32m----> 6\u001b[0m \u001b[38;5;28;01mimport\u001b[39;00m \u001b[38;5;21;01mpyreadr\u001b[39;00m\n\u001b[1;32m      7\u001b[0m \u001b[38;5;28;01mfrom\u001b[39;00m \u001b[38;5;21;01msklearn\u001b[39;00m\u001b[38;5;21;01m.\u001b[39;00m\u001b[38;5;21;01mpreprocessing\u001b[39;00m \u001b[38;5;28;01mimport\u001b[39;00m StandardScaler\n\u001b[1;32m      8\u001b[0m \u001b[38;5;28;01mfrom\u001b[39;00m \u001b[38;5;21;01msklearn\u001b[39;00m\u001b[38;5;21;01m.\u001b[39;00m\u001b[38;5;21;01mdecomposition\u001b[39;00m \u001b[38;5;28;01mimport\u001b[39;00m PCA\n",
      "\u001b[0;31mModuleNotFoundError\u001b[0m: No module named 'pyreadr'"
     ]
    }
   ],
   "source": [
    "import numpy as np\n",
    "import pandas as pd\n",
    "pd.pandas.set_option(\"display.max_columns\", None)\n",
    "import matplotlib.pyplot as plt\n",
    "import seaborn as sns\n",
    "import pyreadr\n",
    "from sklearn.preprocessing import StandardScaler\n",
    "from sklearn.decomposition import PCA\n",
    "from sklearn.feature_selection import VarianceThreshold"
   ]
  },
  {
   "cell_type": "markdown",
   "id": "3d425cfd",
   "metadata": {},
   "source": [
    "#### Loading the preprocessed 2022 and 2023 data's"
   ]
  },
  {
   "cell_type": "code",
   "execution_count": null,
   "id": "19ba37e1",
   "metadata": {},
   "outputs": [],
   "source": [
    "dataset_2023 = pd.read_csv('datasets/data_2023_preprocessed.csv')\n",
    "dataset_2022 = pd.read_csv('datasets/data_2022_preprocessed.csv')"
   ]
  },
  {
   "cell_type": "code",
   "execution_count": null,
   "id": "bd459856",
   "metadata": {},
   "outputs": [],
   "source": [
    "dataset_2023"
   ]
  },
  {
   "cell_type": "code",
   "execution_count": null,
   "id": "5298ff95",
   "metadata": {},
   "outputs": [],
   "source": [
    "# double checking again low variance features\n",
    "# applying VarianceThreshold to filter low-variance features (threshold=0.8)\n",
    "selector = VarianceThreshold(threshold=0.01)\n",
    "selector.fit(dataset_2023)\n",
    "\n",
    "# get boolean mask of retained features\n",
    "selected_features_mask = selector.get_support()\n",
    "\n",
    "# get the names of low-variance features\n",
    "low_variance_features = (dataset_2023.columns[~selected_features_mask]).tolist()\n",
    "print(low_variance_features)"
   ]
  },
  {
   "cell_type": "code",
   "execution_count": null,
   "id": "b8a2a7e0",
   "metadata": {},
   "outputs": [],
   "source": [
    "print(len(low_variance_features))"
   ]
  },
  {
   "cell_type": "code",
   "execution_count": null,
   "id": "70663142",
   "metadata": {},
   "outputs": [],
   "source": [
    "# after removing the low variance features after double checking\n",
    "\n",
    "dataset_2022_remv_low_var = dataset_2022.drop(low_variance_features, axis=1)\n",
    "dataset_2023_remv_low_var = dataset_2023.drop(low_variance_features, axis=1)\n",
    "dataset_2023_remv_low_var"
   ]
  },
  {
   "cell_type": "code",
   "execution_count": null,
   "id": "79602549",
   "metadata": {},
   "outputs": [],
   "source": [
    "# removing DON'T KNOW, BLANK (not answered and not asked questions)\n",
    "# the standard code based on the codebook\n",
    "refused_answers = [97, 997, 9997]\n",
    "blank_answers = [99, 999, 9999 ] \n",
    "dont_know_answers = [ 94, 994, 9994]\n",
    "\n",
    "# function to rem\n",
    "def remove_unwanted_answers(data, answers):\n",
    "    \"\"\"\n",
    "    remove rows from a data where any column contains values from the answers list.\n",
    "    \"\"\"\n",
    "    # creat a mask to identify unwanted answers\n",
    "    mask = data.isin(answers).any(axis=1)\n",
    "    # Invert the mask to keep rows without refused answers\n",
    "    data_filtered = data[~mask]\n",
    "    print(f\"Removed {len(data) - len(data_filtered)} rows containing unnecessary answers.\")\n",
    "    return data_filtered.reset_index(drop=True)\n",
    "\n",
    "def remove_columns_with_refused_answers(data, refused_answers, threshold):\n",
    "    \"\"\"\n",
    "    remove columns from a dataFrame where more than a specified percentage of values are (refused_answers).\n",
    "    \"\"\"\n",
    "    # cal. the percentage of refused answers in each column\n",
    "    refused_percentage = data.isin(refused_answers).mean()\n",
    "    columns_to_drop = refused_percentage[refused_percentage > threshold].index\n",
    "    data_filtered = data.drop(columns=columns_to_drop)\n",
    "    print(f\"Removed {len(columns_to_drop)} columns with more than {threshold * 100}% blank answers.\")\n",
    "    return data_filtered"
   ]
  },
  {
   "cell_type": "code",
   "execution_count": null,
   "id": "1a51a903",
   "metadata": {},
   "outputs": [],
   "source": [
    "# data_filtered_2023 = remove_columns_with_refused_answers(dataset_2022_remv_low_var, blank_answers, 0.09)\n",
    "# data_filtered_2023 "
   ]
  },
  {
   "cell_type": "code",
   "execution_count": null,
   "id": "e97425b2",
   "metadata": {},
   "outputs": [],
   "source": [
    "# so removing the rows for blank answer,dont_know_answers doesn't show reliable performance when clustering bas\n",
    "data_filtered_2023 = remove_columns_with_refused_answers(dataset_2022_remv_low_var )\n",
    "\n"
   ]
  },
  {
   "cell_type": "markdown",
   "id": "8880f324",
   "metadata": {},
   "source": [
    "#### Scaling(Normalizing)- Centering the data"
   ]
  },
  {
   "cell_type": "code",
   "execution_count": null,
   "id": "4af659c3",
   "metadata": {},
   "outputs": [],
   "source": [
    "# scaling the data \n",
    "\n",
    "def standardscaling(data):\n",
    "    original_data = data.copy()\n",
    "    # numerical_data = data.select_dtypes(include=['float64', 'int64'])  # all data are numerical at the moment\n",
    "    scaler = StandardScaler()\n",
    "    scaled_numerical_data = scaler.fit_transform(data)\n",
    "    scaled_data = pd.DataFrame(scaled_numerical_data, columns=original_data.columns)\n",
    "    return scaled_data"
   ]
  },
  {
   "cell_type": "code",
   "execution_count": null,
   "id": "84fa50bb",
   "metadata": {},
   "outputs": [],
   "source": [
    "scaled_data_2022 = standardscaling(dataset_2022_remv_low_var)\n",
    "scaled_data_2023 = standardscaling (dataset_2023_remv_low_var)\n",
    "scaled_data_2023"
   ]
  },
  {
   "cell_type": "markdown",
   "id": "9f495c40",
   "metadata": {},
   "source": [
    "### Outlier Removal"
   ]
  },
  {
   "cell_type": "code",
   "execution_count": null,
   "id": "45166968",
   "metadata": {},
   "outputs": [],
   "source": [
    "scaled_data_2023"
   ]
  },
  {
   "cell_type": "markdown",
   "id": "c2ba701c",
   "metadata": {},
   "source": [
    "- For high-dimensional data, algorithmic methods like Isolation Forest or Local Outlier Factor can detect outliers by learning the data’s structure. “One efficient way of performing outlier detection in high-dimensional datasets is to use random forests. The IsolationForest isolates observations by randomly selecting a feature and split value”"
   ]
  },
  {
   "cell_type": "code",
   "execution_count": null,
   "id": "b238f9e2",
   "metadata": {},
   "outputs": [],
   "source": [
    "# IsolationForest- Outlier Removal\n",
    "from sklearn.ensemble import IsolationForest\n",
    "\n",
    "iso = IsolationForest(contamination=0.01, random_state=42) # initially 0.01\n",
    "outlier_preds = iso.fit_predict(scaled_data_2023)  # -1 for outliers, 1 for inliers\n",
    "X_inliers = scaled_data_2023[outlier_preds == 1]\n",
    "X_inliers "
   ]
  },
  {
   "cell_type": "markdown",
   "id": "86ee3851",
   "metadata": {},
   "source": [
    "## PCA"
   ]
  },
  {
   "cell_type": "markdown",
   "id": "9495b73b",
   "metadata": {},
   "source": [
    "#### 1. Centering the data"
   ]
  },
  {
   "cell_type": "code",
   "execution_count": null,
   "id": "a45e1b82",
   "metadata": {},
   "outputs": [],
   "source": [
    "# centering the data  -- similar to the scaling we did above so skip\n",
    "def centering_data ( data):\n",
    "    centered_data = data - data.mean()\n",
    "    return centered_data"
   ]
  },
  {
   "cell_type": "code",
   "execution_count": null,
   "id": "f74002d0",
   "metadata": {},
   "outputs": [],
   "source": [
    "centered_data_2023 = centering_data(X_inliers)\n",
    "centered_data_2023"
   ]
  },
  {
   "cell_type": "code",
   "execution_count": null,
   "id": "98c00768",
   "metadata": {},
   "outputs": [],
   "source": [
    "centered_data_2023"
   ]
  },
  {
   "cell_type": "markdown",
   "id": "a8e52334",
   "metadata": {},
   "source": [
    "##### Decompoisition"
   ]
  },
  {
   "cell_type": "code",
   "execution_count": null,
   "id": "327cc12b",
   "metadata": {},
   "outputs": [],
   "source": [
    "from sklearn.decomposition import PCA\n",
    "\n",
    "pca = PCA(n_components=0.95)  # keep 95% of variance\n",
    "X_pca = pca.fit_transform(scaled_data_2023)\n",
    "print(pca.n_components_)      # number of components selected\n",
    "print(pca.explained_variance_ratio_)  # variance explained by each component\n"
   ]
  },
  {
   "cell_type": "code",
   "execution_count": null,
   "id": "9f2d53b9",
   "metadata": {},
   "outputs": [],
   "source": [
    "# applying PCA to compute the explained variance for each component\n",
    "# pca = PCA()\n",
    "# pca.fit(centered_data_2023)\n",
    "\n",
    "# the scree plot (explained variance vs. number of components)\n",
    "plt.figure(figsize=(10, 6))\n",
    "plt.plot(range(1, len(pca.explained_variance_ratio_) + 1), pca.explained_variance_ratio_, marker='o', linestyle='--', color='red')\n",
    "plt.title('Scree Plot')\n",
    "plt.xlabel('Principal Component')\n",
    "plt.ylabel('Explained Variance Ratio')\n",
    "plt.grid(True)\n",
    "plt.show()"
   ]
  },
  {
   "cell_type": "code",
   "execution_count": null,
   "id": "ebf74ab0",
   "metadata": {},
   "outputs": [],
   "source": [
    "### Based on the scree plot elbow it suggest to use 30 to componennts"
   ]
  },
  {
   "cell_type": "code",
   "execution_count": null,
   "id": "625b768d",
   "metadata": {},
   "outputs": [],
   "source": [
    "plt.figure(figsize=(10, 6))\n",
    "plt.plot(range(1, len(pca.explained_variance_ratio_) + 1), pca.explained_variance_ratio_.cumsum(), marker='o', linestyle='--', color='blue')\n",
    "plt.title('Cumulative Explained Variance')\n",
    "plt.xlabel('Number of Components')\n",
    "plt.ylabel('Cumulative Explained Variance')\n",
    "plt.axhline(y=0.85, color='r', linestyle='--', label='85% threshold')\n",
    "\n",
    "plt.grid(True)\n",
    "plt.show()\n",
    "\n",
    "# num_components_95 = np.argmax(cumulative_variance >= 0.85) + 1\n",
    "# print(f\"Components needed for 85% variance: {num_components_95}\")"
   ]
  },
  {
   "cell_type": "code",
   "execution_count": null,
   "id": "2ee7720b",
   "metadata": {},
   "outputs": [],
   "source": [
    "# apply PCA with the selected number of components\n",
    "pca = PCA(n_components=40)\n",
    "pca_result = pca.fit_transform(centered_data_2023)\n",
    "\n",
    "# visualize the first two principal components\n",
    "plt.figure(figsize=(10, 6))\n",
    "plt.scatter(pca_result[:, 0], pca_result[:, 3], alpha=0.5, s=10, color='blue')\n",
    "plt.title('PCA - First Two Principal Components')\n",
    "plt.xlabel('Principal Component 1')\n",
    "plt.ylabel('Principal Component 2')\n",
    "plt.grid(True)\n",
    "plt.show()\n",
    "\n",
    "# # check the distribution of the first few principal components\n",
    "# # Distribution of PC1\n",
    "# plt.figure(figsize=(10, 6))\n",
    "# plt.hist(pca_result[:, 0], bins=50, color='skyblue', edgecolor='black')\n",
    "# plt.title('Distribution of Principal Component 1')\n",
    "# plt.xlabel('Principal Component 1')\n",
    "# plt.ylabel('Frequency')\n",
    "# plt.grid(True)\n",
    "# plt.show()"
   ]
  },
  {
   "cell_type": "code",
   "execution_count": null,
   "id": "93b1aa17",
   "metadata": {},
   "outputs": [],
   "source": [
    "pca = PCA(n_components=0.80)\n",
    "pca_result = pca.fit_transform(centered_data_2023)\n",
    "print(\"Explained variance by PC1:\", pca.explained_variance_ratio_[0])\n",
    "print(\"Explained variance by PC2:\", pca.explained_variance_ratio_[1])"
   ]
  },
  {
   "cell_type": "markdown",
   "id": "a66c4a96",
   "metadata": {},
   "source": [
    "### ICA"
   ]
  },
  {
   "cell_type": "code",
   "execution_count": null,
   "id": "52c540b7",
   "metadata": {},
   "outputs": [],
   "source": [
    "from sklearn.decomposition import FastICA\n",
    "\n",
    "ica = FastICA()\n",
    "X_ica = ica.fit_transform(centered_data_2023)  # Independent Components\n",
    "\n",
    "plt.scatter(X_ica[:, 0], X_ica[:, 1], alpha=0.5)\n",
    "plt.xlabel(\"Independent Component 1\")\n",
    "plt.ylabel(\"Independent Component 2\")\n",
    "plt.title(\"ICA - First Two Independent Components\")\n",
    "plt.grid()\n",
    "plt.show()"
   ]
  },
  {
   "cell_type": "code",
   "execution_count": null,
   "id": "73d2658e",
   "metadata": {},
   "outputs": [],
   "source": [
    "plt.scatter(X_ica[:, 0], X_ica[:, 2], alpha=0.5, color='blue')\n",
    "plt.xlabel(\"Independent Component 1\")\n",
    "plt.ylabel(\"Independent Component 2\")\n",
    "plt.title(\"ICA - First Two Independent Components\")\n",
    "plt.grid()\n",
    "plt.show()"
   ]
  },
  {
   "cell_type": "markdown",
   "id": "055f95ef",
   "metadata": {},
   "source": [
    "## Clustering- With PCA"
   ]
  },
  {
   "cell_type": "code",
   "execution_count": null,
   "id": "01056111",
   "metadata": {},
   "outputs": [],
   "source": [
    "from sklearn.cluster import KMeans\n",
    "from sklearn.metrics import silhouette_score\n",
    "\n",
    "\n",
    "n_clusters = 2 \n",
    "kmeans = KMeans(n_clusters=n_clusters, random_state=42)\n",
    "kmeans.fit(pca_result[:, :50])  # Using the first 3 PCs for clustering\n",
    "labels = kmeans.labels_"
   ]
  },
  {
   "cell_type": "code",
   "execution_count": null,
   "id": "fd3b27da",
   "metadata": {},
   "outputs": [],
   "source": [
    "from mpl_toolkits.mplot3d import Axes3D\n",
    "\n",
    "fig = plt.figure(figsize=(10, 6))\n",
    "ax = fig.add_subplot(111, projection='3d')\n",
    "scatter = ax.scatter(pca_result[:, 0], pca_result[:, 1], pca_result[:, 2], c=labels, cmap='viridis', s=30, alpha=0.5)\n",
    "\n",
    "plt.title('K-Means Clustering (First 3 Principal Components)')\n",
    "ax.set_xlabel('Principal Component 1')\n",
    "ax.set_ylabel('Principal Component 2')\n",
    "ax.set_zlabel('Principal Component 3')\n",
    "plt.colorbar(scatter, label='Cluster Label')\n",
    "plt.show()\n",
    "\n",
    "silhouette_avg = silhouette_score(pca_result[:, :3], labels)\n",
    "print(f'Silhouette Score for {n_clusters} clusters: {silhouette_avg}')"
   ]
  },
  {
   "cell_type": "code",
   "execution_count": null,
   "id": "6a2bb572",
   "metadata": {},
   "outputs": [],
   "source": [
    "from mpl_toolkits.mplot3d import Axes3D\n",
    "\n",
    "n_clusters = 2 \n",
    "kmeans = KMeans(n_clusters=n_clusters, random_state=42)\n",
    "kmeans.fit(pca_result[:, :40])  # Using the first 3 PCs for clustering\n",
    "labels = kmeans.labels_\n",
    "\n",
    "fig = plt.figure(figsize=(10, 6))\n",
    "ax = fig.add_subplot(111, projection='3d')\n",
    "scatter = ax.scatter(pca_result[:, 0], pca_result[:, 1], pca_result[:, 2], c=labels, cmap='viridis', s=30, alpha=0.5)\n",
    "\n",
    "plt.title('K-Means Clustering (First 3 Principal Components)')\n",
    "ax.set_xlabel('Principal Component 1')\n",
    "ax.set_ylabel('Principal Component 2')\n",
    "ax.set_zlabel('Principal Component 3')\n",
    "plt.colorbar(scatter, label='Cluster Label')\n",
    "plt.show()\n",
    "\n",
    "silhouette_avg = silhouette_score(pca_result[:, :3], labels)\n",
    "print(f'Silhouette Score for {n_clusters} clusters: {silhouette_avg}')"
   ]
  },
  {
   "cell_type": "code",
   "execution_count": null,
   "id": "122344ae",
   "metadata": {},
   "outputs": [],
   "source": [
    "a = []\n",
    "b = []\n",
    "for i in labels.tolist():\n",
    "    if i==0:\n",
    "        a.append(i)\n",
    "    else:\n",
    "         b.append(i)\n",
    "print(len(a))\n",
    "print(len(b))"
   ]
  },
  {
   "cell_type": "code",
   "execution_count": null,
   "id": "b6df6c48",
   "metadata": {},
   "outputs": [],
   "source": [
    "# adding the cluster label to the original data\n",
    "dataset_2023_2023_indexed = dataset_2023_remv_low_var.loc[centered_data_2023.index] \n",
    "dataset_2023_2023_indexed"
   ]
  },
  {
   "cell_type": "code",
   "execution_count": null,
   "id": "9781db7a",
   "metadata": {},
   "outputs": [],
   "source": [
    "dataset_2023_2023_indexed['CLUSTER'] = labels\n",
    "dataset_2023_2023_indexed"
   ]
  },
  {
   "cell_type": "code",
   "execution_count": null,
   "id": "a0687134",
   "metadata": {},
   "outputs": [],
   "source": [
    "dataset_2023_2023_indexed.to_csv('dataseeet_2023_with_cluster_label_second.csv', index=False)"
   ]
  },
  {
   "cell_type": "markdown",
   "id": "7bf46811",
   "metadata": {},
   "source": [
    "## Clustering-with ICA"
   ]
  },
  {
   "cell_type": "code",
   "execution_count": null,
   "id": "7bf9ef48",
   "metadata": {},
   "outputs": [],
   "source": [
    "n_clusters = 2 \n",
    "\n",
    "kmeans_ica = KMeans(n_clusters=n_clusters, random_state=42)\n",
    "kmeans_ica.fit(X_ica[:, :296])  \n",
    "\n",
    "labels = kmeans_ica.labels_\n",
    "labels"
   ]
  },
  {
   "cell_type": "code",
   "execution_count": null,
   "id": "818e56b6",
   "metadata": {},
   "outputs": [],
   "source": [
    "fig = plt.figure(figsize=(10, 6))\n",
    "ax = fig.add_subplot(111, projection='3d')\n",
    "\n",
    "scatter = ax.scatter(X_ica[:, 0], X_ica[:, 1], X_ica[:, 2], c=labels, cmap='viridis', s=30, alpha=0.5)\n",
    "\n",
    "plt.title('K-Means Clustering (First 3 Principal Components)')\n",
    "ax.set_xlabel('Principal Component 1')\n",
    "ax.set_ylabel('Principal Component 2')\n",
    "ax.set_zlabel('Principal Component 3')\n",
    "plt.colorbar(scatter, label='Cluster Label')\n",
    "plt.show()\n",
    "\n",
    "silhouette_avg = silhouette_score(pca_result[:, :3], labels)\n",
    "print(f'Silhouette Score for {n_clusters} clusters: {silhouette_avg}')\n"
   ]
  },
  {
   "cell_type": "code",
   "execution_count": null,
   "id": "579c9aa5",
   "metadata": {},
   "outputs": [],
   "source": [
    "# Conclusion \n",
    "# - The clustering outperforms  with PCA compare to  ICA\n"
   ]
  }
 ],
 "metadata": {
  "kernelspec": {
   "display_name": "Python 3 (ipykernel)",
   "language": "python",
   "name": "python3"
  },
  "language_info": {
   "codemirror_mode": {
    "name": "ipython",
    "version": 3
   },
   "file_extension": ".py",
   "mimetype": "text/x-python",
   "name": "python",
   "nbconvert_exporter": "python",
   "pygments_lexer": "ipython3",
   "version": "3.9.12"
  }
 },
 "nbformat": 4,
 "nbformat_minor": 5
}
